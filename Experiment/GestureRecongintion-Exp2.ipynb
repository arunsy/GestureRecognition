{
 "cells": [
  {
   "cell_type": "markdown",
   "metadata": {
    "id": "L97ud1WwG7s7"
   },
   "source": [
    "# Gesture Recognition (RNN Study)\n",
    "\n",
    "- In this group project, you are going to build a 3D Conv model that will be able to predict the 5 gestures correctly. Please import the following libraries to get started."
   ]
  },
  {
   "cell_type": "markdown",
   "metadata": {
    "colab": {
     "base_uri": "https://localhost:8080/"
    },
    "id": "GkfLlbpjMcvI",
    "outputId": "03d7f67f-f4f5-418f-f8f5-e590538c61e2"
   },
   "source": [
    "#!ls /datasets/Project_data/train"
   ]
  },
  {
   "cell_type": "code",
   "execution_count": 1,
   "metadata": {
    "id": "1Qfdp7-QG7s9"
   },
   "outputs": [],
   "source": [
    "import numpy as np\n",
    "import os\n",
    "from skimage import io, transform\n",
    "import datetime\n",
    "import os\n",
    "import matplotlib.pyplot as plt"
   ]
  },
  {
   "cell_type": "markdown",
   "metadata": {
    "id": "tnNEpHhpG7s_"
   },
   "source": [
    "We set the random seed so that the results don't vary drastically."
   ]
  },
  {
   "cell_type": "code",
   "execution_count": 2,
   "metadata": {
    "id": "yonM27K8G7tA"
   },
   "outputs": [],
   "source": [
    "np.random.seed(30)\n",
    "import random as rn\n",
    "rn.seed(30)\n",
    "from keras import backend as K\n",
    "import tensorflow as tf\n",
    "tf.random.set_seed(30)"
   ]
  },
  {
   "cell_type": "markdown",
   "metadata": {
    "id": "9bGhSNwBG7tA"
   },
   "source": [
    "In this block, you read the folder names for training and validation. You also set the `batch_size` here. Note that you set the batch size in such a way that you are able to use the GPU in full capacity. You keep increasing the batch size until the machine throws an error."
   ]
  },
  {
   "cell_type": "code",
   "execution_count": 3,
   "metadata": {
    "id": "ZNiz-khpOCEN"
   },
   "outputs": [],
   "source": [
    "def fetch_data(path, ablation=None):\n",
    "  train_doc = np.random.permutation(open(path  + 'train.csv').readlines())\n",
    "  val_doc = np.random.permutation(open(path + 'val.csv').readlines())\n",
    "\n",
    "  train_data = []\n",
    "  val_data = []\n",
    "  \n",
    "  if ablation is not None:\n",
    "    num_count = [0 for i in range(5)]\n",
    "    for data in train_doc:\n",
    "      label = int(data.split(';')[2])\n",
    "      if num_count[label] < ablation:\n",
    "        train_data.append(data)\n",
    "        num_count[label] += 1\n",
    "\n",
    "    num_count = [0 for i in range(5)]\n",
    "    for data in val_doc:\n",
    "      label = int(data.split(';')[2])\n",
    "      if num_count[label] < ablation:\n",
    "        val_data.append(data)\n",
    "        num_count[label] += 1\n",
    "  else:\n",
    "    train_data = train_doc\n",
    "    val_data = val_doc\n",
    "\n",
    "  return train_data, val_data"
   ]
  },
  {
   "cell_type": "code",
   "execution_count": 4,
   "metadata": {
    "id": "NPwr6E4IRA3h"
   },
   "outputs": [],
   "source": [
    "train_doc, val_doc = fetch_data('/datasets/Project_data/')\n",
    "batch_size = 32\n",
    "img_dim_x = 64\n",
    "img_dim_y = 64"
   ]
  },
  {
   "cell_type": "markdown",
   "metadata": {
    "id": "cl8dENDKG7tC"
   },
   "source": [
    "## Generator\n",
    "This is one of the most important part of the code. The overall structure of the generator has been given. In the generator, you are going to preprocess the images as you have images of 2 different dimensions as well as create a batch of video frames. You have to experiment with `img_idx`, `y`,`z` and normalization such that you get high accuracy."
   ]
  },
  {
   "cell_type": "code",
   "execution_count": 5,
   "metadata": {
    "id": "87OE-dZ-G7tC"
   },
   "outputs": [],
   "source": [
    "img_idx = range(0, 30, 1)   #create a list of image numbers you want to use for a particular video\n",
    "\n",
    "def generator(source_path, folder_list, batch_size):\n",
    "    print( 'Source path = ', source_path, '; batch size =', batch_size)    \n",
    "    x, y, z = len(img_idx), img_dim_x, img_dim_x\n",
    "\n",
    "    while True:\n",
    "        t = np.random.permutation(folder_list)\n",
    "        t_len = len(t)\n",
    "\n",
    "        if (t_len % batch_size) == 0:\n",
    "          num_batches = (t_len // batch_size)\n",
    "        else:\n",
    "          num_batches = (t_len // batch_size) + 1\n",
    "\n",
    "        for batch in range(num_batches): # we iterate over the number of batches\n",
    "            batch_data = np.zeros((batch_size, x, y, z, 3)) # x is the number of images you use for each video, (y,z) is the final size of the input images and 3 is the number of channels RGB\n",
    "            batch_labels = np.zeros((batch_size, 5)) # batch_labels is the one hot representation of the output\n",
    "\n",
    "            proc_batch_size = batch_size if ((batch + 1) * batch_size) < t_len else t_len % batch_size\n",
    "            #print(\"t_len: %d, num_batches: %d, batch: %d, proc_batch_size: %d\" % (t_len, num_batches, batch, proc_batch_size), end=\"\")\n",
    "\n",
    "            #image_name = []\n",
    "            for folder in range(proc_batch_size):   # iterate over the batch_size\n",
    "                imgs = sorted(os.listdir(source_path + '/' + t[folder + (batch * batch_size)].split(';')[0])) # read all the images in the folder\n",
    "                #imgs = str(folder + (batch * batch_size)) + source_path + '/' + t[folder + (batch * batch_size)].split(';')[0]\n",
    "\n",
    "                for idx, item in enumerate(img_idx): #  Iterate iver the frames/images of a folder to read them in\n",
    "                    #image_name.append(imgs)\n",
    "                    image = io.imread(source_path+'/'+ t[folder + (batch*batch_size)].strip().split(';')[0]+'/'+imgs[item]).astype(np.float32)\n",
    "                    \n",
    "                    #crop the images and resize them. Note that the images are of 2 different shape and the conv3D will throw error if the inputs in a batch have different shapes\n",
    "                    resize_img = transform.resize(image, (y,z))\n",
    "                    \n",
    "                    batch_data[folder,idx,:,:,0] = resize_img[:,:,0] / 255 #normalise and feed in the image\n",
    "                    batch_data[folder,idx,:,:,1] = resize_img[:,:,1] / 255 #normalise and feed in the image\n",
    "                    batch_data[folder,idx,:,:,2] = resize_img[:,:,2] / 255 #normalise and feed in the image\n",
    "                    \n",
    "                batch_labels[folder, int(t[folder + (batch*batch_size)].strip().split(';')[2])] = 1\n",
    "            yield batch_data, batch_labels #you yield the batch_data and the batch_labels, remember what does yield do"
   ]
  },
  {
   "cell_type": "markdown",
   "metadata": {
    "id": "cugepFHQvIEH"
   },
   "source": [
    "# write the code for the remaining data points which are left after full batches\n",
    "        "
   ]
  },
  {
   "cell_type": "markdown",
   "metadata": {
    "id": "gdoL17GpG7tD"
   },
   "source": [
    "Note here that a video is represented above in the generator as (number of images, height, width, number of channels). Take this into consideration while creating the model architecture."
   ]
  },
  {
   "cell_type": "code",
   "execution_count": 6,
   "metadata": {
    "colab": {
     "base_uri": "https://localhost:8080/"
    },
    "id": "gOdvV4ENG7tE",
    "outputId": "596b6a06-1c73-4d1c-f9a4-1f9403dd604e"
   },
   "outputs": [
    {
     "name": "stdout",
     "output_type": "stream",
     "text": [
      "# training sequences = 663\n",
      "# validation sequences = 100\n",
      "# epochs = 20\n"
     ]
    }
   ],
   "source": [
    "curr_dt_time = datetime.datetime.now()\n",
    "\n",
    "train_path = '/datasets/Project_data/train'\n",
    "val_path = '/datasets/Project_data/val'\n",
    "\n",
    "num_train_sequences = len(train_doc)\n",
    "print('# training sequences =', num_train_sequences)\n",
    "\n",
    "num_val_sequences = len(val_doc)\n",
    "print('# validation sequences =', num_val_sequences)\n",
    "\n",
    "num_epochs = 20 # choose the number of epochs\n",
    "print ('# epochs =', num_epochs)"
   ]
  },
  {
   "cell_type": "code",
   "execution_count": 7,
   "metadata": {
    "id": "2ak1F3uBgWwU"
   },
   "outputs": [],
   "source": [
    "# function to plot n images using subplots\n",
    "def plot_image(images, captions=None, cmap=None ):\n",
    "    f, axes = plt.subplots(1, len(images), sharey=True)\n",
    "    f.set_figwidth(len(images))\n",
    "    for ax,image in zip(axes, images):\n",
    "        ax.imshow(image, cmap)"
   ]
  },
  {
   "cell_type": "code",
   "execution_count": 8,
   "metadata": {
    "id": "srJP0_N1g4r2"
   },
   "outputs": [],
   "source": [
    "#test_gen = generator(train_path, train_doc, 32)\n",
    "#d = next(test_gen)\n",
    "#print(len(d[0]), end=\"\\n\",)\n",
    "#plot_image(d[0][0])\n",
    "#print(d[0], len(d[0]), end=\"\\n\",)"
   ]
  },
  {
   "cell_type": "markdown",
   "metadata": {
    "id": "ytHInHQ0G7tF"
   },
   "source": [
    "## Model Building\n",
    "\n",
    "Here you make the model using different functionalities that Keras provides. Remember to use `Conv3D` and `MaxPooling3D` and not `Conv2D` and `Maxpooling2D` for a 3D convolution model. You would want to use `TimeDistributed` while building a Conv2D + RNN model. Also remember that the last layer is the softmax. Design the network in such a way that the model is able to give good accuracy on the least number of parameters so that it can fit in the memory of the webcam."
   ]
  },
  {
   "cell_type": "code",
   "execution_count": 9,
   "metadata": {
    "id": "VNNd8bH1G7tF"
   },
   "outputs": [],
   "source": [
    "from keras.models import Sequential, Model\n",
    "from keras.layers import Dense, GRU, Flatten, TimeDistributed, Flatten, BatchNormalization, Activation, Dropout\n",
    "from keras.layers.convolutional import Conv3D, MaxPooling3D\n",
    "from keras.callbacks import ModelCheckpoint, ReduceLROnPlateau"
   ]
  },
  {
   "cell_type": "code",
   "execution_count": 10,
   "metadata": {},
   "outputs": [],
   "source": [
    "input_dim = (len(img_idx), img_dim_x, img_dim_y, 3)"
   ]
  },
  {
   "cell_type": "markdown",
   "metadata": {},
   "source": [
    "### Conv3D (experiment: 1)\n",
    "\n",
    "- Set Initial Epochs = 20"
   ]
  },
  {
   "cell_type": "markdown",
   "metadata": {},
   "source": [
    "experiment ='ex1'\n",
    "\n",
    "model = Sequential()\n",
    "\n",
    "model.add(Conv3D(32, kernel_size=3, activation='relu', input_shape=input_dim))\n",
    "model.add(Conv3D(64, kernel_size=3, activation='relu'))\n",
    "model.add(MaxPooling3D(pool_size=(2, 2, 2)))\n",
    "\n",
    "model.add(Conv3D(128, kernel_size=3, activation='relu'))\n",
    "model.add(MaxPooling3D(pool_size=(1, 2, 2)))\n",
    "\n",
    "model.add(Conv3D(256, kernel_size=(1, 3, 3), activation='relu'))\n",
    "model.add(MaxPooling3D(pool_size=(1, 2, 2)))\n",
    "\n",
    "model.add(Conv3D(512, kernel_size=(1, 3, 3), activation='relu'))\n",
    "model.add(Conv3D(512, kernel_size=(1, 3, 3), activation='relu'))\n",
    "model.add(MaxPooling3D(pool_size=(1, 2, 2)))\n",
    "\n",
    "model.add(Flatten())\n",
    "model.add(Dense(512, activation='relu'))\n",
    "model.add(Dense(5, activation='softmax'))"
   ]
  },
  {
   "cell_type": "markdown",
   "metadata": {},
   "source": [
    "### Conv3D (experiment: 2)"
   ]
  },
  {
   "cell_type": "code",
   "execution_count": 11,
   "metadata": {},
   "outputs": [
    {
     "name": "stderr",
     "output_type": "stream",
     "text": [
      "2023-02-20 01:01:45.984125: W tensorflow/core/common_runtime/gpu/gpu_bfc_allocator.cc:39] Overriding allow_growth setting because the TF_FORCE_GPU_ALLOW_GROWTH environment variable is set. Original config value was 0.\n",
      "2023-02-20 01:01:45.984190: I tensorflow/core/common_runtime/gpu/gpu_device.cc:1525] Created device /job:localhost/replica:0/task:0/device:GPU:0 with 14802 MB memory:  -> device: 0, name: Quadro RTX 5000, pci bus id: 0000:1c:00.0, compute capability: 7.5\n"
     ]
    }
   ],
   "source": [
    "experiment ='ex2'\n",
    "\n",
    "model = Sequential()\n",
    "\n",
    "model.add(Conv3D(32, kernel_size=3, activation='relu', input_shape = input_dim))\n",
    "model.add(Conv3D(64, kernel_size=3, activation='relu'))\n",
    "model.add(MaxPooling3D(pool_size=(2, 2, 2)))\n",
    "model.add(BatchNormalization())\n",
    "model.add(Dropout(0.5))\n",
    "\n",
    "model.add(Conv3D(128, kernel_size=3, activation='relu'))\n",
    "model.add(MaxPooling3D(pool_size=(1, 2, 2)))\n",
    "model.add(BatchNormalization())\n",
    "model.add(Dropout(0.5))\n",
    "\n",
    "model.add(Conv3D(256, kernel_size=(1, 3, 3), activation='relu'))\n",
    "model.add(MaxPooling3D(pool_size=(1, 2, 2)))\n",
    "model.add(BatchNormalization())\n",
    "model.add(Dropout(0.5))\n",
    "\n",
    "model.add(Conv3D(512, kernel_size=(1, 3, 3), activation='relu'))\n",
    "model.add(Conv3D(512, kernel_size=(1, 3, 3), activation='relu'))\n",
    "model.add(MaxPooling3D(pool_size=(1, 2, 2)))\n",
    "model.add(BatchNormalization())\n",
    "model.add(Dropout(0.5))\n",
    "\n",
    "model.add(Flatten())\n",
    "model.add(Dense(512, activation='relu'))\n",
    "model.add(BatchNormalization())\n",
    "model.add(Dense(5, activation='softmax'))"
   ]
  },
  {
   "cell_type": "markdown",
   "metadata": {
    "id": "IZ0ryNgpopQB"
   },
   "source": [
    "### Conv3D (experiment: 3)\n",
    "- changed Epochs = 40"
   ]
  },
  {
   "cell_type": "markdown",
   "metadata": {
    "id": "arfJPfE1oQYe"
   },
   "source": [
    "experiment ='ex3'\n",
    "model = Sequential()\n",
    "\n",
    "model.add(Conv3D(32, kernel_size=3, activation='relu', input_shape = input_dim))\n",
    "model.add(Conv3D(64, kernel_size=3, activation='relu'))\n",
    "model.add(MaxPooling3D(pool_size=(2, 2, 2)))\n",
    "model.add(BatchNormalization())\n",
    "model.add(Dropout(0.25))\n",
    "\n",
    "model.add(Conv3D(128, kernel_size=3, activation='relu'))\n",
    "model.add(MaxPooling3D(pool_size=(1, 2, 2)))\n",
    "model.add(BatchNormalization())\n",
    "model.add(Dropout(0.25))\n",
    "\n",
    "model.add(Conv3D(256, kernel_size=3, activation='relu'))\n",
    "model.add(MaxPooling3D(pool_size=(1, 2, 2)))\n",
    "model.add(BatchNormalization())\n",
    "model.add(Dropout(0.25))\n",
    "\n",
    "model.add(GlobalAveragePooling3D())\n",
    "model.add(Dense(512, activation='relu'))\n",
    "model.add(BatchNormalization())\n",
    "model.add(Dense(5, activation='softmax'))"
   ]
  },
  {
   "cell_type": "markdown",
   "metadata": {},
   "source": [
    "### Conv2D + GRU (experiment: 4)"
   ]
  },
  {
   "cell_type": "markdown",
   "metadata": {},
   "source": [
    "experiment ='ex4'\n",
    "model = Sequential()\n",
    "\n",
    "model.add(TimeDistributed(Conv2D(32, (3,3), activation='relu'), input_shape= input_dim))\n",
    "model.add(TimeDistributed(MaxPooling2D((2,2))))\n",
    "model.add(BatchNormalization())\n",
    "model.add(Dropout(0.25))\n",
    "\n",
    "model.add(TimeDistributed(Conv2D(64, (3,3), activation='relu')))\n",
    "model.add(TimeDistributed(MaxPooling2D((2,2))))\n",
    "model.add(BatchNormalization())\n",
    "model.add(Dropout(0.25))\n",
    "\n",
    "model.add(TimeDistributed(GlobalAveragePooling2D()))\n",
    "model.add(TimeDistributed(Dense(64, activation='relu')))\n",
    "model.add(BatchNormalization())\n",
    "model.add(Dropout(0.25))\n",
    "\n",
    "model.add(GRU(128))\n",
    "model.add(BatchNormalization())\n",
    "model.add(Dense(5, activation='softmax'))"
   ]
  },
  {
   "cell_type": "markdown",
   "metadata": {},
   "source": [
    "### Conv2D + ConvLSTM2D (experiment: 5)"
   ]
  },
  {
   "cell_type": "markdown",
   "metadata": {},
   "source": [
    "experiment ='ex5'\n",
    "\n",
    "model = Sequential()\n",
    "model.add(TimeDistributed(Conv2D(8, (3,3), activation='relu'), input_shape = input_dim))\n",
    "model.add(BatchNormalization())\n",
    "\n",
    "model.add(TimeDistributed(Conv2D(16, (3,3), activation='relu')))\n",
    "model.add(BatchNormalization())\n",
    "\n",
    "model.add(ConvLSTM2D(8, kernel_size = 3, return_sequences=False))\n",
    "model.add(BatchNormalization())\n",
    "\n",
    "model.add(TimeDistributed(Dense(64, activation='relu')))\n",
    "model.add(BatchNormalization())\n",
    "model.add(Dropout(0.25))\n",
    "\n",
    "model.add(GlobalAveragePooling2D())\n",
    "model.add(Dense(64, activation='relu'))\n",
    "model.add(Dense(5, activation='softmax'))"
   ]
  },
  {
   "cell_type": "markdown",
   "metadata": {
    "id": "bpfqVUgeG7tG"
   },
   "source": [
    "Now that you have written the model, the next step is to `compile` the model. When you print the `summary` of the model, you'll see the total number of parameters you have to train."
   ]
  },
  {
   "cell_type": "code",
   "execution_count": 12,
   "metadata": {
    "colab": {
     "base_uri": "https://localhost:8080/"
    },
    "id": "vOg2mwSrG7tG",
    "outputId": "4ea094db-f265-4c6f-9013-de0924574aed",
    "scrolled": true
   },
   "outputs": [
    {
     "name": "stdout",
     "output_type": "stream",
     "text": [
      "Model: \"sequential\"\n",
      "_________________________________________________________________\n",
      " Layer (type)                Output Shape              Param #   \n",
      "=================================================================\n",
      " conv3d (Conv3D)             (None, 28, 62, 62, 32)    2624      \n",
      "                                                                 \n",
      " conv3d_1 (Conv3D)           (None, 26, 60, 60, 64)    55360     \n",
      "                                                                 \n",
      " max_pooling3d (MaxPooling3D  (None, 13, 30, 30, 64)   0         \n",
      " )                                                               \n",
      "                                                                 \n",
      " batch_normalization (BatchN  (None, 13, 30, 30, 64)   256       \n",
      " ormalization)                                                   \n",
      "                                                                 \n",
      " dropout (Dropout)           (None, 13, 30, 30, 64)    0         \n",
      "                                                                 \n",
      " conv3d_2 (Conv3D)           (None, 11, 28, 28, 128)   221312    \n",
      "                                                                 \n",
      " max_pooling3d_1 (MaxPooling  (None, 11, 14, 14, 128)  0         \n",
      " 3D)                                                             \n",
      "                                                                 \n",
      " batch_normalization_1 (Batc  (None, 11, 14, 14, 128)  512       \n",
      " hNormalization)                                                 \n",
      "                                                                 \n",
      " dropout_1 (Dropout)         (None, 11, 14, 14, 128)   0         \n",
      "                                                                 \n",
      " conv3d_3 (Conv3D)           (None, 11, 12, 12, 256)   295168    \n",
      "                                                                 \n",
      " max_pooling3d_2 (MaxPooling  (None, 11, 6, 6, 256)    0         \n",
      " 3D)                                                             \n",
      "                                                                 \n",
      " batch_normalization_2 (Batc  (None, 11, 6, 6, 256)    1024      \n",
      " hNormalization)                                                 \n",
      "                                                                 \n",
      " dropout_2 (Dropout)         (None, 11, 6, 6, 256)     0         \n",
      "                                                                 \n",
      " conv3d_4 (Conv3D)           (None, 11, 4, 4, 512)     1180160   \n",
      "                                                                 \n",
      " conv3d_5 (Conv3D)           (None, 11, 2, 2, 512)     2359808   \n",
      "                                                                 \n",
      " max_pooling3d_3 (MaxPooling  (None, 11, 1, 1, 512)    0         \n",
      " 3D)                                                             \n",
      "                                                                 \n",
      " batch_normalization_3 (Batc  (None, 11, 1, 1, 512)    2048      \n",
      " hNormalization)                                                 \n",
      "                                                                 \n",
      " dropout_3 (Dropout)         (None, 11, 1, 1, 512)     0         \n",
      "                                                                 \n",
      " flatten (Flatten)           (None, 5632)              0         \n",
      "                                                                 \n",
      " dense (Dense)               (None, 512)               2884096   \n",
      "                                                                 \n",
      " batch_normalization_4 (Batc  (None, 512)              2048      \n",
      " hNormalization)                                                 \n",
      "                                                                 \n",
      " dense_1 (Dense)             (None, 5)                 2565      \n",
      "                                                                 \n",
      "=================================================================\n",
      "Total params: 7,006,981\n",
      "Trainable params: 7,004,037\n",
      "Non-trainable params: 2,944\n",
      "_________________________________________________________________\n",
      "None\n"
     ]
    }
   ],
   "source": [
    "optimiser = 'adam'\n",
    "model.compile(optimizer=optimiser, loss='categorical_crossentropy', metrics=['categorical_accuracy'])\n",
    "print (model.summary())"
   ]
  },
  {
   "cell_type": "markdown",
   "metadata": {
    "id": "72mWpiHzG7tG"
   },
   "source": [
    "Let us create the `train_generator` and the `val_generator` which will be used in `.fit_generator`."
   ]
  },
  {
   "cell_type": "code",
   "execution_count": 13,
   "metadata": {
    "id": "zBdqtphGG7tH"
   },
   "outputs": [],
   "source": [
    "train_generator = generator(train_path, train_doc, batch_size)\n",
    "val_generator = generator(val_path, val_doc, batch_size)"
   ]
  },
  {
   "cell_type": "code",
   "execution_count": 14,
   "metadata": {
    "id": "BHemGglyG7tH"
   },
   "outputs": [],
   "source": [
    "model_name = 'model_init_' + experiment + '_' + str(curr_dt_time).replace(' ','').replace(':','_') + '/'\n",
    "    \n",
    "if not os.path.exists(model_name):\n",
    "    os.mkdir(model_name)\n",
    "        \n",
    "filepath = model_name + 'model-{epoch:05d}-{loss:.5f}-{categorical_accuracy:.5f}-{val_loss:.5f}-{val_categorical_accuracy:.5f}.h5'\n",
    "\n",
    "checkpoint = ModelCheckpoint(filepath, monitor='val_loss', verbose=1, save_best_only=False, save_weights_only=False, mode='auto', save_freq = \"epoch\")\n",
    "\n",
    "# write the REducelronplateau code here\n",
    "LR = ReduceLROnPlateau(monitor='val_loss', factor=0.15, patience = 8, min_lr = 0.001, verbose = 1) \n",
    "\n",
    "callbacks_list = [checkpoint, LR]"
   ]
  },
  {
   "cell_type": "markdown",
   "metadata": {
    "id": "lzLc6F7EG7tI"
   },
   "source": [
    "The `steps_per_epoch` and `validation_steps` are used by `fit_generator` to decide the number of next() calls it need to make."
   ]
  },
  {
   "cell_type": "code",
   "execution_count": 15,
   "metadata": {
    "id": "S7ubhKUKG7tI"
   },
   "outputs": [],
   "source": [
    "if (num_train_sequences % batch_size) == 0:\n",
    "    steps_per_epoch = (num_train_sequences // batch_size)\n",
    "else:\n",
    "    steps_per_epoch = (num_train_sequences // batch_size) + 1\n",
    "\n",
    "if (num_val_sequences % batch_size) == 0:\n",
    "    validation_steps = (num_val_sequences // batch_size)\n",
    "else:\n",
    "    validation_steps = (num_val_sequences // batch_size) + 1"
   ]
  },
  {
   "cell_type": "code",
   "execution_count": 16,
   "metadata": {
    "id": "pVv7KFKntX-g"
   },
   "outputs": [],
   "source": [
    "#for i in range(steps_per_epoch):\n",
    "#  data, label = next(train_generator)\n",
    "#  print(len(data))"
   ]
  },
  {
   "cell_type": "markdown",
   "metadata": {
    "id": "WsM8ePidG7tI"
   },
   "source": [
    "Let us now fit the model. This will start training the model and with the help of the checkpoints, you'll be able to save the model at the end of each epoch."
   ]
  },
  {
   "cell_type": "code",
   "execution_count": 17,
   "metadata": {
    "colab": {
     "base_uri": "https://localhost:8080/"
    },
    "id": "lEvv7DN4G7tJ",
    "outputId": "ada3e551-e7ce-4886-c238-1457a9d192df"
   },
   "outputs": [
    {
     "name": "stdout",
     "output_type": "stream",
     "text": [
      "Source path =  /datasets/Project_data/train ; batch size = 32\n",
      "Epoch 1/20\n"
     ]
    },
    {
     "name": "stderr",
     "output_type": "stream",
     "text": [
      "2023-02-20 01:01:55.756015: I tensorflow/stream_executor/cuda/cuda_dnn.cc:377] Loaded cuDNN version 8302\n"
     ]
    },
    {
     "name": "stdout",
     "output_type": "stream",
     "text": [
      "21/21 [==============================] - ETA: 0s - loss: 2.0220 - categorical_accuracy: 0.4226Source path =  /datasets/Project_data/val ; batch size = 32\n",
      "\n",
      "Epoch 00001: saving model to model_init_ex2_2023-02-2001_01_43.670880/model-00001-2.02203-0.42262-1.31921-0.20312.h5\n",
      "21/21 [==============================] - 179s 8s/step - loss: 2.0220 - categorical_accuracy: 0.4226 - val_loss: 1.3192 - val_categorical_accuracy: 0.2031 - lr: 0.0010\n",
      "Epoch 2/20\n",
      "21/21 [==============================] - ETA: 0s - loss: 1.0578 - categorical_accuracy: 0.5565\n",
      "Epoch 00002: saving model to model_init_ex2_2023-02-2001_01_43.670880/model-00002-1.05782-0.55655-4.25106-0.15625.h5\n",
      "21/21 [==============================] - 169s 8s/step - loss: 1.0578 - categorical_accuracy: 0.5565 - val_loss: 4.2511 - val_categorical_accuracy: 0.1562 - lr: 0.0010\n",
      "Epoch 3/20\n",
      "21/21 [==============================] - ETA: 0s - loss: 0.7045 - categorical_accuracy: 0.7128\n",
      "Epoch 00003: saving model to model_init_ex2_2023-02-2001_01_43.670880/model-00003-0.70445-0.71280-1.88935-0.18750.h5\n",
      "21/21 [==============================] - 167s 8s/step - loss: 0.7045 - categorical_accuracy: 0.7128 - val_loss: 1.8893 - val_categorical_accuracy: 0.1875 - lr: 0.0010\n",
      "Epoch 4/20\n",
      "21/21 [==============================] - ETA: 0s - loss: 0.6044 - categorical_accuracy: 0.7545\n",
      "Epoch 00004: saving model to model_init_ex2_2023-02-2001_01_43.670880/model-00004-0.60443-0.75446-3.57830-0.18750.h5\n",
      "21/21 [==============================] - 161s 8s/step - loss: 0.6044 - categorical_accuracy: 0.7545 - val_loss: 3.5783 - val_categorical_accuracy: 0.1875 - lr: 0.0010\n",
      "Epoch 5/20\n",
      "21/21 [==============================] - ETA: 0s - loss: 0.5361 - categorical_accuracy: 0.7961\n",
      "Epoch 00005: saving model to model_init_ex2_2023-02-2001_01_43.670880/model-00005-0.53609-0.79613-1.68592-0.18750.h5\n",
      "21/21 [==============================] - 168s 8s/step - loss: 0.5361 - categorical_accuracy: 0.7961 - val_loss: 1.6859 - val_categorical_accuracy: 0.1875 - lr: 0.0010\n",
      "Epoch 6/20\n",
      "21/21 [==============================] - ETA: 0s - loss: 0.3738 - categorical_accuracy: 0.8333\n",
      "Epoch 00006: saving model to model_init_ex2_2023-02-2001_01_43.670880/model-00006-0.37375-0.83333-1.87419-0.15625.h5\n",
      "21/21 [==============================] - 169s 8s/step - loss: 0.3738 - categorical_accuracy: 0.8333 - val_loss: 1.8742 - val_categorical_accuracy: 0.1562 - lr: 0.0010\n",
      "Epoch 7/20\n",
      "21/21 [==============================] - ETA: 0s - loss: 0.3601 - categorical_accuracy: 0.8542\n",
      "Epoch 00007: saving model to model_init_ex2_2023-02-2001_01_43.670880/model-00007-0.36011-0.85417-3.80650-0.18750.h5\n",
      "21/21 [==============================] - 169s 8s/step - loss: 0.3601 - categorical_accuracy: 0.8542 - val_loss: 3.8065 - val_categorical_accuracy: 0.1875 - lr: 0.0010\n",
      "Epoch 8/20\n",
      "21/21 [==============================] - ETA: 0s - loss: 0.3073 - categorical_accuracy: 0.8869\n",
      "Epoch 00008: saving model to model_init_ex2_2023-02-2001_01_43.670880/model-00008-0.30735-0.88690-5.05066-0.17188.h5\n",
      "21/21 [==============================] - 163s 8s/step - loss: 0.3073 - categorical_accuracy: 0.8869 - val_loss: 5.0507 - val_categorical_accuracy: 0.1719 - lr: 0.0010\n",
      "Epoch 9/20\n",
      "21/21 [==============================] - ETA: 0s - loss: 0.2258 - categorical_accuracy: 0.9048\n",
      "Epoch 00009: saving model to model_init_ex2_2023-02-2001_01_43.670880/model-00009-0.22577-0.90476-2.61885-0.21094.h5\n",
      "21/21 [==============================] - 168s 8s/step - loss: 0.2258 - categorical_accuracy: 0.9048 - val_loss: 2.6189 - val_categorical_accuracy: 0.2109 - lr: 0.0010\n",
      "Epoch 10/20\n",
      "21/21 [==============================] - ETA: 0s - loss: 0.2078 - categorical_accuracy: 0.9062\n",
      "Epoch 00010: saving model to model_init_ex2_2023-02-2001_01_43.670880/model-00010-0.20783-0.90625-4.73533-0.13281.h5\n",
      "21/21 [==============================] - 170s 8s/step - loss: 0.2078 - categorical_accuracy: 0.9062 - val_loss: 4.7353 - val_categorical_accuracy: 0.1328 - lr: 0.0010\n",
      "Epoch 11/20\n",
      "21/21 [==============================] - ETA: 0s - loss: 0.2588 - categorical_accuracy: 0.8914\n",
      "Epoch 00011: saving model to model_init_ex2_2023-02-2001_01_43.670880/model-00011-0.25879-0.89137-1.67669-0.24219.h5\n",
      "21/21 [==============================] - 170s 8s/step - loss: 0.2588 - categorical_accuracy: 0.8914 - val_loss: 1.6767 - val_categorical_accuracy: 0.2422 - lr: 0.0010\n",
      "Epoch 12/20\n",
      "21/21 [==============================] - ETA: 0s - loss: 0.2096 - categorical_accuracy: 0.9196\n",
      "Epoch 00012: saving model to model_init_ex2_2023-02-2001_01_43.670880/model-00012-0.20957-0.91964-5.46799-0.15625.h5\n",
      "21/21 [==============================] - 161s 8s/step - loss: 0.2096 - categorical_accuracy: 0.9196 - val_loss: 5.4680 - val_categorical_accuracy: 0.1562 - lr: 0.0010\n",
      "Epoch 13/20\n",
      "21/21 [==============================] - ETA: 0s - loss: 0.1336 - categorical_accuracy: 0.9330\n",
      "Epoch 00013: saving model to model_init_ex2_2023-02-2001_01_43.670880/model-00013-0.13362-0.93304-6.22254-0.17188.h5\n",
      "21/21 [==============================] - 165s 8s/step - loss: 0.1336 - categorical_accuracy: 0.9330 - val_loss: 6.2225 - val_categorical_accuracy: 0.1719 - lr: 0.0010\n",
      "Epoch 14/20\n",
      "21/21 [==============================] - ETA: 0s - loss: 0.1193 - categorical_accuracy: 0.9420\n",
      "Epoch 00014: saving model to model_init_ex2_2023-02-2001_01_43.670880/model-00014-0.11929-0.94196-3.59833-0.18750.h5\n",
      "21/21 [==============================] - 171s 9s/step - loss: 0.1193 - categorical_accuracy: 0.9420 - val_loss: 3.5983 - val_categorical_accuracy: 0.1875 - lr: 0.0010\n",
      "Epoch 15/20\n",
      "21/21 [==============================] - ETA: 0s - loss: 0.1094 - categorical_accuracy: 0.9539\n",
      "Epoch 00015: saving model to model_init_ex2_2023-02-2001_01_43.670880/model-00015-0.10939-0.95387-1.47028-0.44531.h5\n",
      "21/21 [==============================] - 174s 9s/step - loss: 0.1094 - categorical_accuracy: 0.9539 - val_loss: 1.4703 - val_categorical_accuracy: 0.4453 - lr: 0.0010\n",
      "Epoch 16/20\n",
      "21/21 [==============================] - ETA: 0s - loss: 0.1078 - categorical_accuracy: 0.9405\n",
      "Epoch 00016: saving model to model_init_ex2_2023-02-2001_01_43.670880/model-00016-0.10776-0.94048-1.93454-0.28125.h5\n",
      "21/21 [==============================] - 161s 8s/step - loss: 0.1078 - categorical_accuracy: 0.9405 - val_loss: 1.9345 - val_categorical_accuracy: 0.2812 - lr: 0.0010\n",
      "Epoch 17/20\n",
      "21/21 [==============================] - ETA: 0s - loss: 0.1299 - categorical_accuracy: 0.9449\n",
      "Epoch 00017: saving model to model_init_ex2_2023-02-2001_01_43.670880/model-00017-0.12995-0.94494-3.30112-0.22656.h5\n",
      "21/21 [==============================] - 168s 8s/step - loss: 0.1299 - categorical_accuracy: 0.9449 - val_loss: 3.3011 - val_categorical_accuracy: 0.2266 - lr: 0.0010\n",
      "Epoch 18/20\n",
      "21/21 [==============================] - ETA: 0s - loss: 0.0949 - categorical_accuracy: 0.9583\n",
      "Epoch 00018: saving model to model_init_ex2_2023-02-2001_01_43.670880/model-00018-0.09494-0.95833-3.19460-0.21875.h5\n",
      "21/21 [==============================] - 168s 8s/step - loss: 0.0949 - categorical_accuracy: 0.9583 - val_loss: 3.1946 - val_categorical_accuracy: 0.2188 - lr: 0.0010\n",
      "Epoch 19/20\n",
      "21/21 [==============================] - ETA: 0s - loss: 0.0858 - categorical_accuracy: 0.9583\n",
      "Epoch 00019: saving model to model_init_ex2_2023-02-2001_01_43.670880/model-00019-0.08584-0.95833-0.97246-0.50781.h5\n",
      "21/21 [==============================] - 171s 9s/step - loss: 0.0858 - categorical_accuracy: 0.9583 - val_loss: 0.9725 - val_categorical_accuracy: 0.5078 - lr: 0.0010\n",
      "Epoch 20/20\n",
      "21/21 [==============================] - ETA: 0s - loss: 0.0676 - categorical_accuracy: 0.9747\n",
      "Epoch 00020: saving model to model_init_ex2_2023-02-2001_01_43.670880/model-00020-0.06761-0.97470-2.35936-0.32031.h5\n",
      "21/21 [==============================] - 162s 8s/step - loss: 0.0676 - categorical_accuracy: 0.9747 - val_loss: 2.3594 - val_categorical_accuracy: 0.3203 - lr: 0.0010\n"
     ]
    }
   ],
   "source": [
    "history = model.fit(train_generator, steps_per_epoch=steps_per_epoch, epochs=num_epochs, verbose=1, \n",
    "                    callbacks=callbacks_list, validation_data=val_generator, \n",
    "                    validation_steps=validation_steps, class_weight=None, workers=1, initial_epoch=0)"
   ]
  },
  {
   "cell_type": "code",
   "execution_count": 18,
   "metadata": {
    "colab": {
     "base_uri": "https://localhost:8080/",
     "height": 404
    },
    "id": "kaNbTTZTDTjn",
    "outputId": "dc3e016e-6191-4e6d-f6c7-2011af7be741"
   },
   "outputs": [
    {
     "data": {
      "image/png": "[encoded data removed]",
      "text/plain": [
       "<Figure size 1296x432 with 2 Axes>"
      ]
     },
     "metadata": {
      "needs_background": "light"
     },
     "output_type": "display_data"
    }
   ],
   "source": [
    "plt.figure(figsize=(18,6))\n",
    "ax1 = plt.subplot(121)\n",
    "ax1 = plt.plot(history.history['loss'])\n",
    "ax1 = plt.plot(history.history['val_loss'])\n",
    "plt.title('model loss')\n",
    "plt.ylabel('loss')\n",
    "plt.xlabel('epoch')\n",
    "plt.legend(['train', 'validation'], loc='lower left')\n",
    "ax2 = plt.subplot(122)\n",
    "ax2 = plt.plot(history.history['categorical_accuracy'])\n",
    "ax2 = plt.plot(history.history['val_categorical_accuracy'])\n",
    "plt.title('model accuracy')\n",
    "plt.ylabel('categorical_accuracy')\n",
    "plt.xlabel('epoch')\n",
    "plt.legend(['train', 'validation'], loc='lower left')\n",
    "plt.show()"
   ]
  }
 ],
 "metadata": {
  "colab": {
   "provenance": []
  },
  "gpuClass": "standard",
  "kernelspec": {
   "display_name": "Python 3 (ipykernel)",
   "language": "python",
   "name": "python3"
  },
  "language_info": {
   "codemirror_mode": {
    "name": "ipython",
    "version": 3
   },
   "file_extension": ".py",
   "mimetype": "text/x-python",
   "name": "python",
   "nbconvert_exporter": "python",
   "pygments_lexer": "ipython3",
   "version": "3.9.12"
  }
 },
 "nbformat": 4,
 "nbformat_minor": 4
}
